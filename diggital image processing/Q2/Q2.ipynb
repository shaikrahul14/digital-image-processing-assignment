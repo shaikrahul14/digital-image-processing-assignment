{
  "nbformat": 4,
  "nbformat_minor": 0,
  "metadata": {
    "colab": {
      "provenance": []
    },
    "kernelspec": {
      "name": "python3",
      "display_name": "Python 3"
    },
    "language_info": {
      "name": "python"
    }
  },
  "cells": [
    {
      "cell_type": "code",
      "execution_count": 1,
      "metadata": {
        "id": "E1qNyXKAOcv4"
      },
      "outputs": [],
      "source": [
        "import numpy as np"
      ]
    },
    {
      "cell_type": "code",
      "source": [
        "def Conncomp(I, connect, V):\n",
        "    # Initializing the leb matrix\n",
        "    leb = np.zeros_like(I)\n",
        "    leb_num = 1\n",
        "    \n",
        "    # Loop over all pixels in the image\n",
        "    for y in range(I.shape[0]):\n",
        "        for x in range(I.shape[1]):\n",
        "            # Check if the pixel has already been lebed\n",
        "            if leb[y, x] > 0:\n",
        "                continue\n",
        "            \n",
        "            # Check if the pixel is a valid intensity value\n",
        "            if I[y, x] not in V:\n",
        "                continue\n",
        "            \n",
        "            # Initialize the queue with the current pixel\n",
        "            queue = [(x, y)]\n",
        "            \n",
        "            # Loop over all pixels in the queue\n",
        "            while queue:\n",
        "                # Get the next pixel from the queue\n",
        "                curr_x, curr_y = queue.pop(0)\n",
        "                \n",
        "                # leb the current pixel\n",
        "                leb[curr_y, curr_x] = leb_num\n",
        "                \n",
        "                # Idd the neighbors to the queue\n",
        "                for dx, dy in ((-1,0), (1,0), (0,-1), (0,1)):\n",
        "                    x_new = curr_x + dx\n",
        "                    y_new = curr_y + dy\n",
        "                    \n",
        "                    # Check if the neighbor is within the image boundaries\n",
        "                    if x_new < 0 or x_new >= I.shape[1] or y_new < 0 or y_new >= I.shape[0]:\n",
        "                        continue\n",
        "                        \n",
        "                    # Check if the neighbor has already been lebed\n",
        "                    if leb[y_new, x_new] > 0:\n",
        "                        continue\n",
        "                        \n",
        "                    # Check if the neighbor is a valid intensity value\n",
        "                    if I[y_new, x_new] not in V:\n",
        "                        continue\n",
        "                        \n",
        "                    # Check the connect\n",
        "                    if connect == 4:\n",
        "                        if dx == -1 and dy == 1:\n",
        "                            continue\n",
        "                        if dx == 1 and dy == -1:\n",
        "                            continue\n",
        "                    elif connect == 8:\n",
        "                        pass\n",
        "                    else:\n",
        "                        raise BalueError(\"connect must be either 4 or 8\")\n",
        "                        \n",
        "                    # Idd the neighbor to the queue\n",
        "                    queue.append((x_new, y_new))\n",
        "            \n",
        "            # Increment the leb number for the next connected component\n",
        "            leb_num += 1\n",
        "            \n",
        "    # Return the leb matrix\n",
        "    return leb\n"
      ],
      "metadata": {
        "id": "Y_-cNbbkOvWN"
      },
      "execution_count": 2,
      "outputs": []
    },
    {
      "cell_type": "markdown",
      "source": [
        "This is a Python function called Conncomp that performs connected component labeling on a 2D image represented as a numpy array I. The function labels pixels in the image that belong to the same connected component with the same integer value in a label matrix called leb.\n",
        "\n",
        "The function takes three arguments:\n",
        "\n",
        "1. I: a numpy array representing the input image\n",
        "2. connectivity: an integer value indicating the connectivity of the pixels. It can be either 4 or 8.\n",
        "3. V: a list of valid intensity values that will be used to determine which pixels to label as part of a connected component.\n",
        "The function starts by initializing an empty label matrix leb with the same shape as the input image. It then loops over all pixels in the image and checks whether each pixel has already been labeled, whether it has a valid intensity value and adds its neighbors to a queue.\n",
        "\n",
        "The function then repeatedly pops the first pixel in the queue and checks its neighbors until the queue is empty. For each pixel that is processed, the function labels it with the current label number and adds its valid neighbors to the queue. The function uses the connectivity value to determine which neighbors to add to the queue.\n",
        "\n",
        "Finally, the function returns the leb matrix with the labeled connected components."
      ],
      "metadata": {
        "id": "o4yf8sM8S-cE"
      }
    },
    {
      "cell_type": "code",
      "source": [
        "from scipy.ndimage import label\n",
        "\n",
        "# Generate a test image\n",
        "I = np.random.randint(0, 2, size=(10, 10))\n",
        "\n",
        "# Define the connectivity and the set of intensity values\n",
        "connectivity = 8\n",
        "V = [1]\n",
        "\n",
        "# Find the connected components using the custom function\n",
        "cc_custom = Conncomp(I, connectivity, V)\n",
        "\n",
        "# Find the connected components using the inbuilt function\n",
        "cc_inbuilt, _ = label(I, structure=np.ones((3, 3)), output=np.uint8)\n",
        "\n",
        "# Compare the results\n",
        "np.array_equal(cc_custom, cc_inbuilt)"
      ],
      "metadata": {
        "colab": {
          "base_uri": "https://localhost:8080/"
        },
        "id": "lPYAVo0TPGWy",
        "outputId": "679c5ab9-3b0b-476c-aa83-10add1a08dec"
      },
      "execution_count": 3,
      "outputs": [
        {
          "output_type": "execute_result",
          "data": {
            "text/plain": [
              "False"
            ]
          },
          "metadata": {},
          "execution_count": 3
        }
      ]
    },
    {
      "cell_type": "code",
      "source": [
        "I"
      ],
      "metadata": {
        "colab": {
          "base_uri": "https://localhost:8080/"
        },
        "id": "sFg-vgroPIPb",
        "outputId": "01394771-a47d-4f91-89ae-1369d28855b4"
      },
      "execution_count": 4,
      "outputs": [
        {
          "output_type": "execute_result",
          "data": {
            "text/plain": [
              "array([[1, 0, 0, 0, 0, 0, 1, 0, 0, 0],\n",
              "       [0, 0, 1, 1, 1, 0, 0, 0, 0, 1],\n",
              "       [1, 1, 0, 1, 0, 1, 1, 1, 0, 0],\n",
              "       [0, 1, 1, 1, 0, 1, 0, 1, 1, 0],\n",
              "       [0, 1, 0, 0, 1, 0, 0, 0, 0, 0],\n",
              "       [1, 0, 1, 1, 0, 0, 1, 0, 0, 1],\n",
              "       [0, 0, 1, 0, 1, 1, 1, 0, 1, 1],\n",
              "       [0, 1, 1, 0, 0, 0, 0, 0, 0, 0],\n",
              "       [0, 0, 1, 1, 0, 1, 1, 0, 1, 1],\n",
              "       [1, 0, 1, 1, 0, 1, 0, 0, 0, 0]])"
            ]
          },
          "metadata": {},
          "execution_count": 4
        }
      ]
    },
    {
      "cell_type": "code",
      "source": [
        "cc_custom, cc_inbuilt"
      ],
      "metadata": {
        "colab": {
          "base_uri": "https://localhost:8080/"
        },
        "id": "MTEdTRvgPL0D",
        "outputId": "c5e0350a-edac-4cc4-b1f5-268802db56f3"
      },
      "execution_count": 5,
      "outputs": [
        {
          "output_type": "execute_result",
          "data": {
            "text/plain": [
              "(array([[ 1,  0,  0,  0,  0,  0,  2,  0,  0,  0],\n",
              "        [ 0,  0,  3,  3,  3,  0,  0,  0,  0,  4],\n",
              "        [ 3,  3,  0,  3,  0,  5,  5,  5,  0,  0],\n",
              "        [ 0,  3,  3,  3,  0,  5,  0,  5,  5,  0],\n",
              "        [ 0,  3,  0,  0,  6,  0,  0,  0,  0,  0],\n",
              "        [ 7,  0,  8,  8,  0,  0,  9,  0,  0, 10],\n",
              "        [ 0,  0,  8,  0,  9,  9,  9,  0, 10, 10],\n",
              "        [ 0,  8,  8,  0,  0,  0,  0,  0,  0,  0],\n",
              "        [ 0,  0,  8,  8,  0, 11, 11,  0, 12, 12],\n",
              "        [13,  0,  8,  8,  0, 11,  0,  0,  0,  0]]),\n",
              " array([[1, 0, 0, 0, 0, 0, 2, 0, 0, 0],\n",
              "        [0, 0, 3, 3, 3, 0, 0, 0, 0, 4],\n",
              "        [3, 3, 0, 3, 0, 3, 3, 3, 0, 0],\n",
              "        [0, 3, 3, 3, 0, 3, 0, 3, 3, 0],\n",
              "        [0, 3, 0, 0, 3, 0, 0, 0, 0, 0],\n",
              "        [3, 0, 3, 3, 0, 0, 3, 0, 0, 5],\n",
              "        [0, 0, 3, 0, 3, 3, 3, 0, 5, 5],\n",
              "        [0, 3, 3, 0, 0, 0, 0, 0, 0, 0],\n",
              "        [0, 0, 3, 3, 0, 6, 6, 0, 7, 7],\n",
              "        [8, 0, 3, 3, 0, 6, 0, 0, 0, 0]], dtype=uint8))"
            ]
          },
          "metadata": {},
          "execution_count": 5
        }
      ]
    }
  ]
}