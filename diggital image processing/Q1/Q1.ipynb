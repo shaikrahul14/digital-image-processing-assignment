{
  "nbformat": 4,
  "nbformat_minor": 0,
  "metadata": {
    "colab": {
      "provenance": []
    },
    "kernelspec": {
      "name": "python3",
      "display_name": "Python 3"
    },
    "language_info": {
      "name": "python"
    }
  },
  "cells": [
    {
      "cell_type": "code",
      "execution_count": 1,
      "metadata": {
        "id": "zGZwBbXqMWwN"
      },
      "outputs": [],
      "source": [
        "import numpy as np\n",
        "\n",
        "def find_paths(I, x1, y1, x2, y2, V = None, path_ty=4):\n",
        "    # Define a function to get the valid neighbors of a point\n",
        "    def m_path(x,y):\n",
        "        neighbours = []\n",
        "        direc = [(1, 0), (0, 1), (-1, 0), (0, -1)]\n",
        "        for dx, dy in direc: \n",
        "            nx, ny = x + dx, y + dy\n",
        "            if ((0 <= nx < I.shape[0]) and (0 <= ny < I.shape[1]) and I[nx][ny] in V) :\n",
        "                neighbours.append((nx, ny))\n",
        "        return neighbours\n",
        "\n",
        "    def get_neighbours(x, y, path_ty):\n",
        "        neighbours = []\n",
        "        # print(path_type)\n",
        "        if path_ty == 4: # The corresponding neighbours for path type 4\n",
        "            direc = [(1, 0), (0, 1), (-1, 0), (0, -1)]\n",
        "        elif path_ty == 8: # The corresponding neighbours for path type 8\n",
        "            direc = [(1, 0), (1, 1), (0, 1), (-1, 1), (-1, 0), (-1, -1), (0, -1), (1, -1)]\n",
        "        elif path_ty == 10: # The corresponding neighbours for path type m\n",
        "            direc = [(1, 0), (1, 1), (0, 1), (-1, 1), (-1, 0), (-1, -1), (0, -1), (1, -1)]\n",
        "            new_direc = [(1, 0), (0, 1), (-1, 0), (0, -1)]\n",
        "\n",
        "        else: # If for any non valid input\n",
        "            raise ValueError(\"Invalid path type!!\")\n",
        "        \n",
        "        for dx, dy in direc: # Iterating through all the direction tuple in that list\n",
        "            nx, ny = x + dx, y + dy\n",
        "            # print((get_neighbours(x,y,4)), ((get_neighbours(nx,ny,4))))\n",
        "            # intersect = 0\n",
        "            # or (I[nx][ny] in V and ((nx,ny) in new_direc or intersect not in V))\n",
        "            if ((0 <= nx < I.shape[0]) and (0 <= ny < I.shape[1]) and I[nx][ny] in V) :\n",
        "                z1 = set(m_path(x,y)).intersection(set(m_path(nx,ny)))\n",
        "                z2 = []\n",
        "                for ax,by in z1:\n",
        "                  z2.append(I[ax][by])\n",
        "                z3 = set(z2).intersection(set(V))\n",
        "                # print(nx, ny, len(z3))\n",
        "                if path_ty == 10 :\n",
        "                  # print(True)\n",
        "                  if (dx,dy) in new_direc or len(z3) == 0: \n",
        "                    # print(neighbours)\n",
        "                    neighbours.append((nx, ny))\n",
        "                    # print(neighbours)\n",
        "                else:\n",
        "                  neighbours.append((nx, ny))\n",
        "        return neighbours\n",
        "\n",
        "    # Define a function to perform DFS on the graph\n",
        "    def dfs(node, vis, path, paths):\n",
        "        # print(node, visited, path, paths)\n",
        "        vis[node] = True\n",
        "        # print(node)\n",
        "        if node == (x2, y2):\n",
        "            paths.append(path)\n",
        "        else:\n",
        "            for neighbor in get_neighbours(*node, path_ty):\n",
        "                if not vis[neighbor]:\n",
        "                    dfs(neighbor, vis, path + [neighbor], paths)\n",
        "        vis[node] = False\n",
        "\n",
        "    # Find all possible paths using DFS\n",
        "    vis = np.zeros(I.shape, dtype=bool)\n",
        "    paths = []\n",
        "    dfs((x1, y1), vis, [(x1, y1)], paths)\n",
        "\n",
        "    return paths"
      ]
    },
    {
      "cell_type": "markdown",
      "source": [
        "This Python code defines a function called find_paths that finds paths between two points on a grid using Depth First Search (DFS) algorithm.\n",
        "\n",
        "The input parameters of the function are:\n",
        "\n",
        "1. I: a numpy array representing the grid\n",
        "\n",
        "2. x1, y1: starting coordinates for the path\n",
        "3. x2, y2: ending coordinates for the path\n",
        "4. V: a list of valid values for the grid. Only the cells with these values are considered in the path finding. If None is given, all cells are considered valid.\n",
        "4. path_ty: an integer indicating the type of path. It can be 4, 8 or 10. If 4 is given, only the four adjacent cells are considered. If 8 is given, all eight adjacent cells are considered. If 10 is given, eight adjacent cells and the diagonal cells that form a 2x2 square with the current cell are considered.\n",
        "\n",
        "The function first defines an internal function called m_path that finds valid neighbors for a given cell by checking the neighboring cells in the four cardinal directions.\n",
        "\n",
        "Then, the function defines another internal function called get_neighbours that returns the neighbors of a cell based on the path type. The function uses the m_path function to find valid neighbors and only returns the neighbors that are valid for the given path type.\n",
        "\n",
        "Finally, the function defines a recursive function called dfs that performs the DFS algorithm to find all possible paths between the starting and ending points. The function starts from the starting point, and at each step, it visits the neighbors of the current cell and recursively visits their neighbors until it reaches the ending point. The function stores all the paths found in a list and returns it.\n",
        "\n",
        "Overall, the find_paths function uses DFS algorithm to find all the possible paths between two points on a grid. The algorithm considers only the valid cells based on the input parameters, and the path type determines the neighboring cells that are considered while finding the path"
      ],
      "metadata": {
        "id": "0Va7tY8pRlo1"
      }
    },
    {
      "cell_type": "code",
      "source": [],
      "metadata": {
        "id": "9Z71KANqRhqQ"
      },
      "execution_count": null,
      "outputs": []
    },
    {
      "cell_type": "code",
      "source": [
        "import numpy as np\n",
        "\n",
        "# Test image\n",
        "I = [[1,0,3,2,4], \n",
        "     [4,3,4,0,2],\n",
        "     [2,2,1,3,0], \n",
        "     [2,4,0,2,3], \n",
        "     [3,2,4,1,0]]\n",
        "\n",
        "I = np.array(I) # converting it into an array\n",
        "\n",
        "path_ty = 4 # for 4 path\n",
        "V = [2, 4]\n",
        "x1 = 3\n",
        "y1 = 0\n",
        "x2 = 1\n",
        "y2 = 4\n",
        "paths = find_paths(I, x1, y1, x2, y2, V, path_ty)\n",
        "# array of structures containing all the paths of desired type, their lengths and the shortest path (paths will be stored as cell array)\n",
        "short = float('inf')\n",
        "lenght = {}\n",
        "for path in paths:\n",
        "    if len(path) not in lenght:\n",
        "      lenght[len(path)] = [path]\n",
        "    else:\n",
        "      lenght[len(path)].append(path)\n",
        "\n",
        "for m in lenght:\n",
        "    print('For path of lenght : ',m, '\\nThe corresopnding paths are :')\n",
        "    for x in lenght[m]:\n",
        "      print(x)\n",
        "if len(lenght) != 0:\n",
        "  print(\"Shortest lenght path : \", min(lenght.keys()))\n",
        "  print('The Paths are :')\n",
        "  lenght[min(lenght.keys())]\n",
        "else:\n",
        "  print(\"No possible paths with path type {}!! \".format(path_ty))"
      ],
      "metadata": {
        "colab": {
          "base_uri": "https://localhost:8080/"
        },
        "id": "ZlEmJlT3N-3K",
        "outputId": "9e693ad0-d2c2-4df2-db29-5ff75d79dfb4"
      },
      "execution_count": 2,
      "outputs": [
        {
          "output_type": "stream",
          "name": "stdout",
          "text": [
            "No possible paths with path type 4!! \n"
          ]
        }
      ]
    },
    {
      "cell_type": "code",
      "source": [
        "import numpy as np\n",
        "\n",
        "# Test image\n",
        "I = [[1,0,3,2,4], \n",
        "     [4,3,4,0,2],\n",
        "     [2,2,1,3,0], \n",
        "     [2,4,0,2,3], \n",
        "     [3,2,4,1,0]]\n",
        "\n",
        "I = np.array(I) # converting it into an array\n",
        "\n",
        "path_ty = 8 # for 8 path\n",
        "V = [2, 4]\n",
        "x1 = 3\n",
        "y1 = 0\n",
        "x2 = 1\n",
        "y2 = 4\n",
        "paths = find_paths(I, x1, y1, x2, y2, V, path_ty)\n",
        "\n",
        "# array of structures containing all the paths of desired type, their lengths and the shortest path (paths will be stored as cell array)\n",
        "short = float('inf')\n",
        "lenght = {}\n",
        "for path in paths:\n",
        "    if len(path) not in lenght:\n",
        "      lenght[len(path)] = [path]\n",
        "    else:\n",
        "      lenght[len(path)].append(path)\n",
        "\n",
        "for m in lenght:\n",
        "    print('For path of lenght : ',m, '\\nThe corresopnding paths are :')\n",
        "    for x in lenght[m]:\n",
        "      print(x)\n",
        "\n",
        "print(\"\\nShortest lenght path : \", min(lenght.keys()))\n",
        "print('The Paths are :')\n",
        "lenght[min(lenght.keys())]"
      ],
      "metadata": {
        "colab": {
          "base_uri": "https://localhost:8080/"
        },
        "id": "i-DLZPe0OULl",
        "outputId": "a834e640-34ec-4ba7-a48a-7571c647af76"
      },
      "execution_count": 3,
      "outputs": [
        {
          "output_type": "stream",
          "name": "stdout",
          "text": [
            "For path of lenght :  8 \n",
            "The corresopnding paths are :\n",
            "[(3, 0), (4, 1), (4, 2), (3, 1), (2, 1), (1, 2), (0, 3), (1, 4)]\n",
            "[(3, 0), (4, 1), (3, 1), (2, 1), (1, 2), (0, 3), (0, 4), (1, 4)]\n",
            "[(3, 0), (4, 1), (3, 1), (2, 0), (2, 1), (1, 2), (0, 3), (1, 4)]\n",
            "[(3, 0), (3, 1), (2, 0), (2, 1), (1, 2), (0, 3), (0, 4), (1, 4)]\n",
            "[(3, 0), (3, 1), (2, 0), (1, 0), (2, 1), (1, 2), (0, 3), (1, 4)]\n",
            "[(3, 0), (2, 0), (3, 1), (2, 1), (1, 2), (0, 3), (0, 4), (1, 4)]\n",
            "[(3, 0), (2, 0), (1, 0), (2, 1), (1, 2), (0, 3), (0, 4), (1, 4)]\n",
            "For path of lenght :  9 \n",
            "The corresopnding paths are :\n",
            "[(3, 0), (4, 1), (4, 2), (3, 1), (2, 1), (1, 2), (0, 3), (0, 4), (1, 4)]\n",
            "[(3, 0), (4, 1), (4, 2), (3, 1), (2, 0), (2, 1), (1, 2), (0, 3), (1, 4)]\n",
            "[(3, 0), (4, 1), (3, 1), (2, 0), (2, 1), (1, 2), (0, 3), (0, 4), (1, 4)]\n",
            "[(3, 0), (4, 1), (3, 1), (2, 0), (1, 0), (2, 1), (1, 2), (0, 3), (1, 4)]\n",
            "[(3, 0), (3, 1), (2, 0), (1, 0), (2, 1), (1, 2), (0, 3), (0, 4), (1, 4)]\n",
            "For path of lenght :  10 \n",
            "The corresopnding paths are :\n",
            "[(3, 0), (4, 1), (4, 2), (3, 1), (2, 0), (2, 1), (1, 2), (0, 3), (0, 4), (1, 4)]\n",
            "[(3, 0), (4, 1), (4, 2), (3, 1), (2, 0), (1, 0), (2, 1), (1, 2), (0, 3), (1, 4)]\n",
            "[(3, 0), (4, 1), (3, 1), (2, 0), (1, 0), (2, 1), (1, 2), (0, 3), (0, 4), (1, 4)]\n",
            "For path of lenght :  11 \n",
            "The corresopnding paths are :\n",
            "[(3, 0), (4, 1), (4, 2), (3, 1), (2, 0), (1, 0), (2, 1), (1, 2), (0, 3), (0, 4), (1, 4)]\n",
            "For path of lenght :  7 \n",
            "The corresopnding paths are :\n",
            "[(3, 0), (4, 1), (3, 1), (2, 1), (1, 2), (0, 3), (1, 4)]\n",
            "[(3, 0), (3, 1), (2, 1), (1, 2), (0, 3), (0, 4), (1, 4)]\n",
            "[(3, 0), (3, 1), (2, 0), (2, 1), (1, 2), (0, 3), (1, 4)]\n",
            "[(3, 0), (2, 0), (3, 1), (2, 1), (1, 2), (0, 3), (1, 4)]\n",
            "[(3, 0), (2, 0), (2, 1), (1, 2), (0, 3), (0, 4), (1, 4)]\n",
            "[(3, 0), (2, 0), (1, 0), (2, 1), (1, 2), (0, 3), (1, 4)]\n",
            "For path of lenght :  6 \n",
            "The corresopnding paths are :\n",
            "[(3, 0), (3, 1), (2, 1), (1, 2), (0, 3), (1, 4)]\n",
            "[(3, 0), (2, 1), (1, 2), (0, 3), (0, 4), (1, 4)]\n",
            "[(3, 0), (2, 0), (2, 1), (1, 2), (0, 3), (1, 4)]\n",
            "For path of lenght :  5 \n",
            "The corresopnding paths are :\n",
            "[(3, 0), (2, 1), (1, 2), (0, 3), (1, 4)]\n",
            "\n",
            "Shortest lenght path :  5\n",
            "The Paths are :\n"
          ]
        },
        {
          "output_type": "execute_result",
          "data": {
            "text/plain": [
              "[[(3, 0), (2, 1), (1, 2), (0, 3), (1, 4)]]"
            ]
          },
          "metadata": {},
          "execution_count": 3
        }
      ]
    },
    {
      "cell_type": "code",
      "source": [
        "import numpy as np\n",
        "\n",
        "# Test image\n",
        "I = [[1,0,3,2,4], \n",
        "     [4,3,4,0,2],\n",
        "     [2,2,1,3,0], \n",
        "     [2,4,0,2,3], \n",
        "     [3,2,4,1,0]]\n",
        "\n",
        "I = np.array(I) # converting it into an array\n",
        "\n",
        "path_ty = 10 # for m path\n",
        "V = [2, 4]\n",
        "x1 = 3\n",
        "y1 = 0\n",
        "x2 = 1\n",
        "y2 = 4\n",
        "paths = find_paths(I, x1, y1, x2, y2, V, path_ty)\n",
        "\n",
        "# array of structures containing all the paths of desired type, their lengths and the shortest path (paths will be stored as cell array)\n",
        "short = float('inf')\n",
        "lenght = {}\n",
        "for path in paths:\n",
        "    if len(path) not in lenght:\n",
        "      lenght[len(path)] = [path]\n",
        "    else:\n",
        "      lenght[len(path)].append(path)\n",
        "\n",
        "for m in lenght:\n",
        "    print('For path of lenght : ',m, '\\nThe corresopnding paths are :')\n",
        "    for x in lenght[m]:\n",
        "      print(x)\n",
        "\n",
        "print(\"\\nShortest lenght path : \", min(lenght.keys()))\n",
        "print('The Paths are :')\n",
        "lenght[min(lenght.keys())]"
      ],
      "metadata": {
        "id": "k5GEngDyOVeD",
        "colab": {
          "base_uri": "https://localhost:8080/"
        },
        "outputId": "a7c7303f-4606-4072-ad44-95f4274b3f81"
      },
      "execution_count": 4,
      "outputs": [
        {
          "output_type": "stream",
          "name": "stdout",
          "text": [
            "For path of lenght :  7 \n",
            "The corresopnding paths are :\n",
            "[(3, 0), (3, 1), (2, 1), (1, 2), (0, 3), (0, 4), (1, 4)]\n",
            "[(3, 0), (2, 0), (2, 1), (1, 2), (0, 3), (0, 4), (1, 4)]\n",
            "\n",
            "Shortest lenght path :  7\n",
            "The Paths are :\n"
          ]
        },
        {
          "output_type": "execute_result",
          "data": {
            "text/plain": [
              "[[(3, 0), (3, 1), (2, 1), (1, 2), (0, 3), (0, 4), (1, 4)],\n",
              " [(3, 0), (2, 0), (2, 1), (1, 2), (0, 3), (0, 4), (1, 4)]]"
            ]
          },
          "metadata": {},
          "execution_count": 4
        }
      ]
    },
    {
      "cell_type": "code",
      "source": [],
      "metadata": {
        "id": "4-_oo9xxcdvs"
      },
      "execution_count": null,
      "outputs": []
    }
  ]
}